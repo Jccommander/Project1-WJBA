{
 "cells": [
  {
   "cell_type": "code",
   "execution_count": 1,
   "metadata": {},
   "outputs": [],
   "source": [
    "# Import Dependencies\n",
    "\n",
    "import json\n",
    "import numpy as np\n",
    "import pandas as pd\n",
    "import matplotlib as plt\n",
    "import requests\n",
    "from config import api_key\n"
   ]
  },
  {
   "cell_type": "code",
   "execution_count": 5,
   "metadata": {
    "scrolled": false
   },
   "outputs": [
    {
     "data": {
      "text/plain": [
       "[['NAME', 'state', 'place'],\n",
       " ['Albany city, Georgia', '13', '01052'],\n",
       " ['Athens-Clarke County unified government (balance), Georgia', '13', '03440'],\n",
       " ['Atlanta city, Georgia', '13', '04000'],\n",
       " ['Augusta-Richmond County consolidated government (balance), Georgia',\n",
       "  '13',\n",
       "  '04204'],\n",
       " ['Columbus city, Georgia', '13', '19000'],\n",
       " ['Johns Creek city, Georgia', '13', '42425'],\n",
       " ['Macon-Bibb County, Georgia', '13', '49008'],\n",
       " ['Roswell city, Georgia', '13', '67284'],\n",
       " ['Sandy Springs city, Georgia', '13', '68516'],\n",
       " ['Savannah city, Georgia', '13', '69000'],\n",
       " ['Warner Robins city, Georgia', '13', '80508']]"
      ]
     },
     "execution_count": 5,
     "metadata": {},
     "output_type": "execute_result"
    }
   ],
   "source": [
    "# Build query URL for exploring Census API\n",
    "\n",
    "# Base URL\n",
    "url = \"https://api.census.gov/data/2015/acs1?get=NAME\"\n",
    "\n",
    "# API Key call, note this should always be at the end of the URL\n",
    "key = \"&key=\" + api_key\n",
    "\n",
    "# Call for states, note that the State's designated number should follow the colon\n",
    "state = \"&in=state:\"\n",
    "\n",
    "# Call for individual counties, note that you must make the county call with the state call, it cannot be called\n",
    "# by itself. Also, the county number should follow the colon\n",
    "county = \"&for=county:\"\n",
    "\n",
    "# Places API Call, which allows for specific cities to be referred to. Requires the \"state\" call to be made as well,\n",
    "# otherwise it might return an error.\n",
    "\n",
    "city = \"&for=place:\"\n",
    "\n",
    "# Basic query url structure should look like this (Note that the \"*\" is used to call all values, so all states\n",
    "# and cities within that state)\n",
    "query_url = url + city + \"*\" + state + \"13\" + key\n",
    "\n",
    "# Json request\n",
    "request = requests.get(query_url).json()\n",
    "\n",
    "# Display result of request\n",
    "request\n"
   ]
  },
  {
   "cell_type": "code",
   "execution_count": 14,
   "metadata": {},
   "outputs": [],
   "source": [
    "# Dictionary with state names as keys and the values being the corresponding code in the Census API\n",
    "state_dict = {\"Georgia\":\"13\",\"Washington\":\"53\",\"Florida\":\"12\",\"New York\":\"36\",\"California\":\"06\",\"New Jersey\":\"34\",\\\n",
    "               \"Oregon\":\"41\",\"Minnesota\":\"27\",\"Kansas\":\"20\",\"Massachusetts\":\"25\",\"Utah\":\"49\",\"Washington D.C.\":\"11\",\\\n",
    "               \"Texas\":\"48\",\"Illinois\":\"17\",\"Pennsylvania\":\"42\",\"Ohio\":\"39\",\"Colorado\":\"08\"}\n",
    "\n",
    "# Dictionary with city names as keys and the values being the corresponding code in the Census API\n",
    "city_dict = {\"Atlanta\":\"04000\", \"Seattle\":\"63000\", \"Orlando\":\"53000\", \"New York\":\"51000\", \"Carson\":\"11530\",\\\n",
    "              \"Harrison\":\"51000\", \"Portland\":\"59000\", \"Minneapolis\":\"43000\", \"San Jose\":\"68000\", \"Kansas City\":\"36000\",\\\n",
    "              \"Foxborough\":\"07000\", \"Sandy\":\"67440\", \"Washington D.C.\":\"50000\", \"Houston\":\"35000\",\\\n",
    "              \"Bridgeview\":\"14000\", \"Chester\":\"60000\", \"Columbus\":\"18000\", \"Commerce City\":\"20000\", \"Frisco\":\"27684\"}\n",
    "\n",
    "# List containing each state code in corresponding order for use in API call iteration\n",
    "state_codes = [\"13\",\"53\",\"12\",\"36\",\"06\",\"34\",\"41\",\"27\",\"06\",\"20\",\"25\",\"49\",\"11\",\"48\",\"17\",\"42\",\"39\",\"08\",\"48\"]\n",
    "\n",
    "# List containing each city code in corresponding order for use in API call iteration\n",
    "city_codes = [\"04000\",\"63000\",\"53000\",\"51000\",\"11530\",\"51000\",\"59000\",\"43000\",\"68000\",\"36000\",\"07000\",\"67440\",\"50000\",\\\n",
    "             \"35000\",\"14000\",\"60000\",\"18000\",\"20000\",\"27684\"]\n"
   ]
  },
  {
   "cell_type": "code",
   "execution_count": 16,
   "metadata": {
    "scrolled": true
   },
   "outputs": [
    {
     "name": "stdout",
     "output_type": "stream",
     "text": [
      "#1: [['NAME', 'state', 'place'], ['Atlanta city, Georgia', '13', '04000']]\n",
      "#2: [['NAME', 'state', 'place'], ['Seattle city, Washington', '53', '63000']]\n",
      "#3: [['NAME', 'state', 'place'], ['Orlando city, Florida', '12', '53000']]\n",
      "#4: [['NAME', 'state', 'place'], ['New York city, New York', '36', '51000']]\n",
      "#5: [['NAME', 'state', 'place'], ['Carson city, California', '06', '11530']]\n",
      "#6: [['NAME', 'state', 'place'], ['Newark city, New Jersey', '34', '51000']]\n",
      "#7: [['NAME', 'state', 'place'], ['Portland city, Oregon', '41', '59000']]\n",
      "#8: [['NAME', 'state', 'place'], ['Minneapolis city, Minnesota', '27', '43000']]\n",
      "#9: [['NAME', 'state', 'place'], ['San Jose city, California', '06', '68000']]\n",
      "#10: [['NAME', 'state', 'place'], ['Kansas City city, Kansas', '20', '36000']]\n",
      "#11: [['NAME', 'state', 'place'], ['Boston city, Massachusetts', '25', '07000']]\n",
      "#12: [['NAME', 'state', 'place'], ['Sandy city, Utah', '49', '67440']]\n",
      "#13: [['NAME', 'state', 'place'], ['Washington city, District of Columbia', '11', '50000']]\n",
      "#14: [['NAME', 'state', 'place'], ['Houston city, Texas', '48', '35000']]\n",
      "#15: [['NAME', 'state', 'place'], ['Chicago city, Illinois', '17', '14000']]\n",
      "#16: [['NAME', 'state', 'place'], ['Philadelphia city, Pennsylvania', '42', '60000']]\n",
      "#17: [['NAME', 'state', 'place'], ['Columbus city, Ohio', '39', '18000']]\n",
      "#18: [['NAME', 'state', 'place'], ['Denver city, Colorado', '08', '20000']]\n",
      "#19: [['NAME', 'state', 'place'], ['Frisco city, Texas', '48', '27684']]\n"
     ]
    }
   ],
   "source": [
    "# API request iteration format\n",
    "\n",
    "counter = 1\n",
    "\n",
    "for num in range(19):\n",
    "    \n",
    "    # Query URL construction that pulls from the city & state codes lists\n",
    "    query_url = url + city + city_codes[num] + state + state_codes[num] + key\n",
    "    \n",
    "    request = requests.get(query_url).json()\n",
    "    \n",
    "    print(f\"#{counter}: {request}\")\n",
    "    \n",
    "    counter += 1\n"
   ]
  },
  {
   "cell_type": "code",
   "execution_count": null,
   "metadata": {},
   "outputs": [],
   "source": []
  }
 ],
 "metadata": {
  "kernelspec": {
   "display_name": "Python [conda env:PythonData]",
   "language": "python",
   "name": "conda-env-PythonData-py"
  },
  "language_info": {
   "codemirror_mode": {
    "name": "ipython",
    "version": 3
   },
   "file_extension": ".py",
   "mimetype": "text/x-python",
   "name": "python",
   "nbconvert_exporter": "python",
   "pygments_lexer": "ipython3",
   "version": "3.6.5"
  }
 },
 "nbformat": 4,
 "nbformat_minor": 2
}
