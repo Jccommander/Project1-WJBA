{
 "cells": [
  {
   "cell_type": "code",
   "execution_count": 17,
   "metadata": {},
   "outputs": [],
   "source": [
    "# Import Dependencies\n",
    "\n",
    "import json\n",
    "import numpy as np\n",
    "import pandas as pd\n",
    "import matplotlib as plt\n",
    "import requests\n",
    "import time\n",
    "from config import api_key\n"
   ]
  },
  {
   "cell_type": "markdown",
   "metadata": {},
   "source": [
    "total_pop = \"B01001_001E\"\n",
    "\n",
    "## Age Group Codes\n",
    "Males age 18 to 19 = B01001_007E\n",
    "Males age 20 = B01001_008E\n",
    "Males age 21 = B01001_009E\n",
    "Males age 22 to 24 = B01001_010E\n",
    "Males age 25 to 29 = B01001_011E\n",
    "Males age 30 to 34 = B01001_012E\n",
    "Males age 35 to 39 = B01001_013E\n",
    "\n",
    "Females age 18 to 19 = B01001_031E\n",
    "Females age 20 = B01001_032E\n",
    "Females age 21 = B01001_033E\n",
    "Females age 22 to 24 = B01001_034E\n",
    "Females age 25 to 29 = B01001_035E\n",
    "Females age 30 to 34 = B01001_036E\n",
    "Females age 35 to 39 = B01001_037E\n",
    "\n",
    "## Ethnicity Group Codes\n",
    "White = B02001_002E\n",
    "Black = B02001_003E\n",
    "Latino = B03001_001E\n",
    "Native Indian = B02001_004E\n",
    "Asian = B02001_005E\n",
    "Pacific Islander = B02001_006E\n",
    "Other = B02001_007E\n",
    "\n",
    "## Income Level\n",
    "income_pop = B25095_001E\n",
    "Less than $10,000 = B25095_002E\n",
    "$10,000 to $19,999 = B25095_011E\n",
    "$20,000 to $34,999 = B25095_020E\n",
    "$35,000 to $49,999 = B25095_029E\n",
    "$50,000 to $74,999 = B25095_038E\n",
    "$75,000 to $99,999 = B25095_047E\n",
    "$100,000 to $149,999 = B25095_056E\n",
    "$150,000 or more = B25095_065E\n",
    "\n",
    "## Education Level\n",
    "edu_pop = B23006_001E\n",
    "Less than high school graduate = B23006_002E\n",
    "High school graduate = B23006_009E\n",
    "Some college or associates = B23006_016E\n",
    "Bachelor's or higher = B23006_023E\n"
   ]
  },
  {
   "cell_type": "code",
   "execution_count": 13,
   "metadata": {
    "scrolled": false
   },
   "outputs": [
    {
     "data": {
      "text/plain": [
       "[['NAME',\n",
       "  'B01001_001E',\n",
       "  'B01001_007E',\n",
       "  'B01001_008E',\n",
       "  'B01001_009E',\n",
       "  'B01001_010E',\n",
       "  'B01001_011E',\n",
       "  'B01001_012E',\n",
       "  'B01001_013E',\n",
       "  'state',\n",
       "  'place'],\n",
       " ['Atlanta city, Georgia',\n",
       "  '456378',\n",
       "  '9169',\n",
       "  '5005',\n",
       "  '4773',\n",
       "  '13108',\n",
       "  '23756',\n",
       "  '21945',\n",
       "  '17461',\n",
       "  '13',\n",
       "  '04000']]"
      ]
     },
     "execution_count": 13,
     "metadata": {},
     "output_type": "execute_result"
    }
   ],
   "source": [
    "# Build query URL for exploring Census API\n",
    "\n",
    "# Base URL\n",
    "url = \"https://api.census.gov/data/2016/acs/acs5?get=NAME\"\n",
    "\n",
    "# API Key call, note this should always be at the end of the URL\n",
    "key = \"&key=\" + api_key\n",
    "\n",
    "# Call for states, note that the State's designated number should follow the colon\n",
    "state = \"&in=state:\"\n",
    "\n",
    "# Call for individual counties, note that you must make the county call with the state call, it cannot be called\n",
    "# by itself. Also, the county number should follow the colon\n",
    "county = \"&for=county:\"\n",
    "\n",
    "# Places API Call, which allows for specific cities to be referred to. Requires the \"state\" call to be made as well,\n",
    "# otherwise it might return an error.\n",
    "\n",
    "city = \"&for=place:\"\n",
    "\n",
    "# Metropolitan API call\n",
    "\n",
    "metro = \"&for=metropolitan%20statistical%20area/micropolitan%20statistical%20area:\"\n",
    "\n",
    "# ZIP code ZCTA API call\n",
    "\n",
    "zip_code = \"&for=zip%20code%20tabulation%20area:\"\n",
    "\n",
    "# Basic query url structure should look like this (Note that the \"*\" is used to call all values, so all states\n",
    "# and cities within that state)\n",
    "query_url = url + city + \"04000\" + state + \"13\" + key\n",
    "\n",
    "# Json request\n",
    "request = requests.get(query_url).json()\n",
    "\n",
    "# Display result of request\n",
    "request\n"
   ]
  },
  {
   "cell_type": "code",
   "execution_count": 15,
   "metadata": {},
   "outputs": [],
   "source": [
    "# Dictionary with state names as keys and the values being the corresponding code in the Census API\n",
    "state_dict = {\"Georgia\":\"13\",\"Washington\":\"53\",\"Florida\":\"12\",\"New York\":\"36\",\"California\":\"06\",\"New Jersey\":\"34\",\\\n",
    "               \"Oregon\":\"41\",\"Minnesota\":\"27\",\"Kansas\":\"20\",\"Massachusetts\":\"25\",\"Utah\":\"49\",\"Washington D.C.\":\"11\",\\\n",
    "               \"Texas\":\"48\",\"Illinois\":\"17\",\"Pennsylvania\":\"42\",\"Ohio\":\"39\",\"Colorado\":\"08\"}\n",
    "\n",
    "# Dictionary with city names as keys and the values being the corresponding code in the Census API\n",
    "city_dict = {\"Atlanta\":\"04000\", \"Seattle\":\"63000\", \"Orlando\":\"53000\", \"New York\":\"51000\", \"Carson\":\"11530\",\\\n",
    "              \"Harrison\":\"51000\", \"Portland\":\"59000\", \"Minneapolis\":\"43000\", \"San Jose\":\"68000\", \"Kansas City\":\"36000\",\\\n",
    "              \"Foxborough\":\"07000\", \"Sandy\":\"67440\", \"Washington D.C.\":\"50000\", \"Houston\":\"35000\",\\\n",
    "              \"Bridgeview\":\"14000\", \"Chester\":\"60000\", \"Columbus\":\"18000\", \"Commerce City\":\"20000\", \"Frisco\":\"27684\"}\n",
    "\n",
    "# List containing each state code in corresponding order for use in API call iteration\n",
    "state_codes = [\"13\",\"53\",\"12\",\"36\",\"06\",\"34\",\"41\",\"27\",\"06\",\"20\",\"25\",\"49\",\"11\",\"48\",\"17\",\"42\",\"39\",\"08\",\"48\"]\n",
    "\n",
    "# List containing each city code in corresponding order for use in API call iteration\n",
    "city_codes = [\"04000\",\"63000\",\"53000\",\"51000\",\"11530\",\"51000\",\"59000\",\"43000\",\"68000\",\"36000\",\"07000\",\"67440\",\"50000\",\\\n",
    "             \"35000\",\"14000\",\"60000\",\"18000\",\"20000\",\"27684\"]\n"
   ]
  },
  {
   "cell_type": "code",
   "execution_count": 18,
   "metadata": {
    "scrolled": false
   },
   "outputs": [
    {
     "name": "stdout",
     "output_type": "stream",
     "text": [
      "#1: [['NAME', 'B01001_001E', 'B01001_007E', 'B01001_008E', 'B01001_009E', 'B01001_010E', 'B01001_011E', 'B01001_012E', 'B01001_013E', 'state', 'place'], ['Atlanta city, Georgia', '456378', '9169', '5005', '4773', '13108', '23756', '21945', '17461', '13', '04000']]\n",
      "#2: [['NAME', 'B01001_001E', 'B01001_007E', 'B01001_008E', 'B01001_009E', 'B01001_010E', 'B01001_011E', 'B01001_012E', 'B01001_013E', 'state', 'place'], ['Seattle city, Washington', '668849', '8179', '4430', '5272', '17440', '40443', '35916', '28537', '53', '63000']]\n",
      "#3: [['NAME', 'B01001_001E', 'B01001_007E', 'B01001_008E', 'B01001_009E', 'B01001_010E', 'B01001_011E', 'B01001_012E', 'B01001_013E', 'state', 'place'], ['Orlando city, Florida', '263306', '2944', '2038', '1587', '6476', '14878', '11869', '10537', '12', '53000']]\n",
      "#4: [['NAME', 'B01001_001E', 'B01001_007E', 'B01001_008E', 'B01001_009E', 'B01001_010E', 'B01001_011E', 'B01001_012E', 'B01001_013E', 'state', 'place'], ['New York city, New York', '8461961', '97085', '59294', '56678', '187099', '377411', '348731', '295361', '36', '51000']]\n",
      "#5: [['NAME', 'B01001_001E', 'B01001_007E', 'B01001_008E', 'B01001_009E', 'B01001_010E', 'B01001_011E', 'B01001_012E', 'B01001_013E', 'state', 'place'], ['Carson city, California', '92780', '1040', '558', '1040', '2042', '3690', '2900', '3116', '06', '11530']]\n",
      "#6: [['NAME', 'B01001_001E', 'B01001_007E', 'B01001_008E', 'B01001_009E', 'B01001_010E', 'B01001_011E', 'B01001_012E', 'B01001_013E', 'state', 'place'], ['Newark city, New Jersey', '280139', '4514', '2401', '2581', '7264', '12471', '11166', '10384', '34', '51000']]\n",
      "#7: [['NAME', 'B01001_001E', 'B01001_007E', 'B01001_008E', 'B01001_009E', 'B01001_010E', 'B01001_011E', 'B01001_012E', 'B01001_013E', 'state', 'place'], ['Portland city, Oregon', '620589', '6057', '3579', '3206', '13026', '29395', '31251', '28129', '41', '59000']]\n",
      "#8: [['NAME', 'B01001_001E', 'B01001_007E', 'B01001_008E', 'B01001_009E', 'B01001_010E', 'B01001_011E', 'B01001_012E', 'B01001_013E', 'state', 'place'], ['Minneapolis city, Minnesota', '404670', '7382', '3335', '4156', '12976', '25468', '20651', '15379', '27', '43000']]\n",
      "#9: [['NAME', 'B01001_001E', 'B01001_007E', 'B01001_008E', 'B01001_009E', 'B01001_010E', 'B01001_011E', 'B01001_012E', 'B01001_013E', 'state', 'place'], ['San Jose city, California', '1009363', '12199', '6895', '7113', '22557', '41424', '40899', '38067', '06', '68000']]\n",
      "#10: [['NAME', 'B01001_001E', 'B01001_007E', 'B01001_008E', 'B01001_009E', 'B01001_010E', 'B01001_011E', 'B01001_012E', 'B01001_013E', 'state', 'place'], ['Kansas City city, Kansas', '149755', '1880', '1016', '969', '3007', '5536', '5746', '5268', '20', '36000']]\n",
      "#11: [['NAME', 'B01001_001E', 'B01001_007E', 'B01001_008E', 'B01001_009E', 'B01001_010E', 'B01001_011E', 'B01001_012E', 'B01001_013E', 'state', 'place'], ['Boston city, Massachusetts', '658279', '14124', '8012', '7942', '20013', '43808', '31619', '20740', '25', '07000']]\n",
      "#12: [['NAME', 'B01001_001E', 'B01001_007E', 'B01001_008E', 'B01001_009E', 'B01001_010E', 'B01001_011E', 'B01001_012E', 'B01001_013E', 'state', 'place'], ['Sandy city, Utah', '93141', '882', '343', '615', '1914', '3204', '2869', '3428', '49', '67440']]\n",
      "#13: [['NAME', 'B01001_001E', 'B01001_007E', 'B01001_008E', 'B01001_009E', 'B01001_010E', 'B01001_011E', 'B01001_012E', 'B01001_013E', 'state', 'place'], ['Washington city, District of Columbia', '659009', '10131', '5632', '5994', '15518', '36030', '34033', '24647', '11', '50000']]\n",
      "#14: [['NAME', 'B01001_001E', 'B01001_007E', 'B01001_008E', 'B01001_009E', 'B01001_010E', 'B01001_011E', 'B01001_012E', 'B01001_013E', 'state', 'place'], ['Houston city, Texas', '2240582', '27906', '16389', '16695', '57053', '108561', '100878', '84822', '48', '35000']]\n",
      "#15: [['NAME', 'B01001_001E', 'B01001_007E', 'B01001_008E', 'B01001_009E', 'B01001_010E', 'B01001_011E', 'B01001_012E', 'B01001_013E', 'state', 'place'], ['Chicago city, Illinois', '2714017', '34831', '19243', '19965', '65254', '134522', '124077', '102245', '17', '14000']]\n",
      "#16: [['NAME', 'B01001_001E', 'B01001_007E', 'B01001_008E', 'B01001_009E', 'B01001_010E', 'B01001_011E', 'B01001_012E', 'B01001_013E', 'state', 'place'], ['Philadelphia city, Pennsylvania', '1559938', '23414', '14043', '12436', '37451', '74681', '60861', '48582', '42', '60000']]\n",
      "#17: [['NAME', 'B01001_001E', 'B01001_007E', 'B01001_008E', 'B01001_009E', 'B01001_010E', 'B01001_011E', 'B01001_012E', 'B01001_013E', 'state', 'place'], ['Columbus city, Ohio', '837038', '13369', '7415', '7155', '22313', '47254', '37785', '30092', '39', '18000']]\n",
      "#18: [['NAME', 'B01001_001E', 'B01001_007E', 'B01001_008E', 'B01001_009E', 'B01001_010E', 'B01001_011E', 'B01001_012E', 'B01001_013E', 'state', 'place'], ['Denver city, Colorado', '663303', '6798', '3935', '3797', '13676', '37501', '36649', '28362', '08', '20000']]\n",
      "#19: [['NAME', 'B01001_001E', 'B01001_007E', 'B01001_008E', 'B01001_009E', 'B01001_010E', 'B01001_011E', 'B01001_012E', 'B01001_013E', 'state', 'place'], ['Frisco city, Texas', '145646', '1534', '510', '604', '1547', '2503', '4630', '6307', '48', '27684']]\n"
     ]
    }
   ],
   "source": [
    "# API request iteration format\n",
    "\n",
    "data_list = []\n",
    "\n",
    "counter = 1\n",
    "\n",
    "for num in range(19):\n",
    "    \n",
    "    # Query URL construction that pulls from the city & state codes lists\n",
    "    query_url = url + city + city_codes[num] + state + state_codes[num] + key\n",
    "    \n",
    "    request = requests.get(query_url).json()\n",
    "    \n",
    "    data_list.append(request[1])\n",
    "    \n",
    "    print(f\"#{counter}: {request}\")\n",
    "    \n",
    "    counter += 1\n",
    "    \n",
    "    time.sleep(1)\n"
   ]
  },
  {
   "cell_type": "code",
   "execution_count": null,
   "metadata": {},
   "outputs": [],
   "source": []
  }
 ],
 "metadata": {
  "kernelspec": {
   "display_name": "Python [conda env:PythonData]",
   "language": "python",
   "name": "conda-env-PythonData-py"
  },
  "language_info": {
   "codemirror_mode": {
    "name": "ipython",
    "version": 3
   },
   "file_extension": ".py",
   "mimetype": "text/x-python",
   "name": "python",
   "nbconvert_exporter": "python",
   "pygments_lexer": "ipython3",
   "version": "3.6.5"
  }
 },
 "nbformat": 4,
 "nbformat_minor": 2
}
