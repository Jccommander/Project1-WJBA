{
 "cells": [
  {
   "cell_type": "code",
   "execution_count": 1,
   "metadata": {},
   "outputs": [],
   "source": [
    "# Import Dependencies\n",
    "\n",
    "import json\n",
    "import numpy as np\n",
    "import pandas as pd\n",
    "import matplotlib as plt\n",
    "import requests\n",
    "from config import api_key\n"
   ]
  },
  {
   "cell_type": "code",
   "execution_count": 3,
   "metadata": {},
   "outputs": [
    {
     "data": {
      "text/plain": [
       "[['NAME', 'state', 'place'],\n",
       " ['Albany city, Georgia', '13', '01052'],\n",
       " ['Athens-Clarke County unified government (balance), Georgia', '13', '03440'],\n",
       " ['Atlanta city, Georgia', '13', '04000'],\n",
       " ['Augusta-Richmond County consolidated government (balance), Georgia',\n",
       "  '13',\n",
       "  '04204'],\n",
       " ['Columbus city, Georgia', '13', '19000'],\n",
       " ['Johns Creek city, Georgia', '13', '42425'],\n",
       " ['Macon-Bibb County, Georgia', '13', '49008'],\n",
       " ['Roswell city, Georgia', '13', '67284'],\n",
       " ['Sandy Springs city, Georgia', '13', '68516'],\n",
       " ['Savannah city, Georgia', '13', '69000'],\n",
       " ['Warner Robins city, Georgia', '13', '80508']]"
      ]
     },
     "execution_count": 3,
     "metadata": {},
     "output_type": "execute_result"
    }
   ],
   "source": [
    "# Build query URL for exploring Census API\n",
    "\n",
    "# Base URL\n",
    "url = \"https://api.census.gov/data/2015/acs1?get=NAME\"\n",
    "\n",
    "# API Key call, note this should always be at the end of the URL\n",
    "key = \"&key=\" + api_key\n",
    "\n",
    "# Call for states, note that the State's designated number should follow the colon\n",
    "state = \"&in=state:\"\n",
    "\n",
    "# Call for individual counties, note that you must make the county call with the state call, it cannot be called\n",
    "# by itself. Also, the county number should follow the colon\n",
    "county = \"&for=county:\"\n",
    "\n",
    "# Places API Call, which allows for specific cities to be referred to. Requires the \"state\" call to be made as well,\n",
    "# otherwise it might return an error.\n",
    "\n",
    "places = \"&for=place:\"\n",
    "\n",
    "# Basic query url structure should look like this (Note that the \"*\" is used to call all values, so all states\n",
    "# and counties)\n",
    "query_url = url + places + \"*\" + state + \"13\" + key\n",
    "\n",
    "# Json request\n",
    "request = requests.get(query_url).json()\n",
    "\n",
    "# Display result of request\n",
    "request\n"
   ]
  },
  {
   "cell_type": "code",
   "execution_count": null,
   "metadata": {},
   "outputs": [],
   "source": []
  }
 ],
 "metadata": {
  "kernelspec": {
   "display_name": "Python [conda env:PythonData]",
   "language": "python",
   "name": "conda-env-PythonData-py"
  },
  "language_info": {
   "codemirror_mode": {
    "name": "ipython",
    "version": 3
   },
   "file_extension": ".py",
   "mimetype": "text/x-python",
   "name": "python",
   "nbconvert_exporter": "python",
   "pygments_lexer": "ipython3",
   "version": "3.6.5"
  }
 },
 "nbformat": 4,
 "nbformat_minor": 2
}
