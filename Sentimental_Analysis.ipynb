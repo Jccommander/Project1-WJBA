{
 "cells": [
  {
   "cell_type": "code",
   "execution_count": 1,
   "metadata": {},
   "outputs": [],
   "source": [
    "# Dependencies\n",
    "import tweepy\n",
    "import matplotlib.pyplot as plt\n",
    "import numpy as np\n",
    "from vaderSentiment.vaderSentiment import SentimentIntensityAnalyzer\n",
    "import pandas as pd\n",
    "import time\n",
    "analyzer = SentimentIntensityAnalyzer()"
   ]
  },
  {
   "cell_type": "code",
   "execution_count": null,
   "metadata": {},
   "outputs": [],
   "source": [
    "# Set up Tweepy API Authentication\n",
    "from wusiapikeys import twitter_plotbot\n",
    "consumer_key= twitter_plotbot[\"consumer_key\"]\n",
    "consumer_secret= twitter_plotbot[\"consumer_secret\"]\n",
    "access_token= twitter_plotbot[\"access_token\"]\n",
    "access_token_secret= twitter_plotbot[\"access_token_secret\"]\n",
    "\n",
    "auth = tweepy.OAuthHandler(consumer_key, consumer_secret)\n",
    "auth.set_access_token(access_token, access_token_secret)\n",
    "api = tweepy.API(auth, parser=tweepy.parsers.JSONParser(),wait_on_rate_limit=True,wait_on_rate_limit_notify=True)\n"
   ]
  },
  {
   "cell_type": "code",
   "execution_count": null,
   "metadata": {},
   "outputs": [],
   "source": [
    "# read the team name from file\n",
    "team_pd=pd.read_excel(\"Resources/MLS_2017_Attendance.xlsx\",\"MLS\",index_col=\"Rank\")\n",
    "team_list = team_pd[\"Team\"].tolist()"
   ]
  },
  {
   "cell_type": "markdown",
   "metadata": {},
   "source": [
    "teams=['Atlanta United FC',\n",
    " 'Seattle Sounders',\n",
    " 'Toronto FC',\n",
    " 'Orlando City',\n",
    " 'New York City FC',\n",
    " 'Los Angeles Galaxy',\n",
    " 'Vancouver Whitecaps',\n",
    " 'New York Red Bulls',\n",
    " 'Portland Timbers',\n",
    " 'Minnesota United FC',\n",
    " 'Impact de Montréal',\n",
    " 'San Jose Earthquakes',\n",
    " 'Sporting Kansas City',\n",
    " 'New England Revolution',\n",
    " 'Real Salt Lake',\n",
    " 'D.C. United',\n",
    " 'Houston Dynamo',\n",
    " 'Chicago Fire',\n",
    " 'Philadelphia Union',\n",
    " 'Columbus Crew',\n",
    " 'Colorado Rapids',\n",
    " 'FC Dallas']\n",
    "\n",
    "hash_tags ={'Atlanta United FC':[\"#ATLUTD\"],\n",
    "  'Seattle Sounders':[\"#Sounders\"],\n",
    " 'Toronto FC':[\"#TFC\"],\n",
    " 'Orlando City':[\"#OCSC\"],\n",
    " 'New York City FC':[\"#NYCFC\"],\n",
    " 'Los Angeles Galaxy':[\"#LAGalaxy\"],\n",
    " 'Vancouver Whitecaps':[\"#VWFC\"],\n",
    " 'New York Red Bulls':[\"#RBNY\"],\n",
    " 'Portland Timbers':[\"#PTFC\"],\n",
    " 'Minnesota United FC':[\"#MNUFC\"],\n",
    " 'Impact de Montréal':[\"#IMFC\"],\n",
    " 'San Jose Earthquakes':[\"#SJEartquakes\"],\n",
    " 'Sporting Kansas City':[\"#SportingKC\"],\n",
    " 'New England Revolution':[\"#NERevs\"],\n",
    " 'Real Salt Lake':[\"#RSL\"],\n",
    " 'D.C. United':[\"#DCU\"],\n",
    " 'Houston Dynamo':[\"#HoustonDynamo\",\"#foreverorange\"],\n",
    " 'Chicago Fire':[\"#cf97\"],\n",
    " 'Philadelphia Union':[\"#DOOP\",\"#PhiladelphiaUnion\"],\n",
    " 'Columbus Crew':[\"#SaveTheCrew\",\"#CrewSC\",\"#Crew96\"],\n",
    " 'Colorado Rapids':[\"#Rapids96\"],\n",
    " 'FC Dallas':[\"#FCDallas\"]}"
   ]
  },
  {
   "cell_type": "code",
   "execution_count": null,
   "metadata": {},
   "outputs": [],
   "source": [
    "## team name list\n",
    "teams=['Atlanta United FC', 'Seattle Sounders', 'Toronto FC', 'Orlando City', 'New York City FC', 'Los Angeles Galaxy', 'Vancouver Whitecaps', 'New York Red Bulls', 'Portland Timbers', 'Minnesota United FC', 'Impact de Montréal', 'San Jose Earthquakes', 'Sporting Kansas City', 'New England Revolution', 'Real Salt Lake', 'D.C. United', 'Houston Dynamo', 'Chicago Fire', 'Philadelphia Union', 'Columbus Crew', 'Colorado Rapids', 'FC Dallas']\n",
    "\n",
    "## team name: hash_tags dictionary\n",
    "hash_tags ={'Atlanta United FC':[\"#ATLUTD\"], 'Seattle Sounders':[\"#Sounders\"], 'Toronto FC':[\"#TFC\"], 'Orlando City':[\"#OCSC\"], 'New York City FC':[\"#NYCFC\"], 'Los Angeles Galaxy':[\"#LAGalaxy\"], 'Vancouver Whitecaps':[\"#VWFC\"], 'New York Red Bulls':[\"#RBNY\"], 'Portland Timbers':[\"#PTFC\"], 'Minnesota United FC':[\"#MNUFC\"], 'Impact de Montréal':[\"#IMFC\"], 'San Jose Earthquakes':[\"#Quakes74\"], 'Sporting Kansas City':[\"#SportingKC\"], 'New England Revolution':[\"#NERevs\"], 'Real Salt Lake':[\"#RSL\"], 'D.C. United':[\"#DCU\"], 'Houston Dynamo':[\"#HoustonDynamo\",\"#foreverorange\"], 'Chicago Fire':[\"#cf97\"], 'Philadelphia Union':[\"#DOOP\",\"#PhiladelphiaUnion\"], 'Columbus Crew':[\"#SaveTheCrew\",\"#CrewSC\",\"#Crew96\"], 'Colorado Rapids':[\"#Rapids96\"], 'FC Dallas':[\"#FCDallas\"]}"
   ]
  },
  {
   "cell_type": "code",
   "execution_count": null,
   "metadata": {},
   "outputs": [],
   "source": [
    "# define function for search hashtag and conduct sentimental analysis\n",
    "# return the average sentimental analysis score for all hash tags\n",
    "def senti_analysis(hash_tags=[]):\n",
    "    \n",
    "    senti_score=[] #initialize score list\n",
    "    count_of_tweets=0\n",
    "    \n",
    "    for hash_tag in hash_tags:\n",
    "        print(hash_tag)\n",
    "        \n",
    "        last_id=None #initialize last id searched\n",
    "        \n",
    "        for i in range(1,6): ## do 5 searches for each hash tag\n",
    "            print(f\"search{i}------------------------------------------------------------------\")\n",
    "            try:\n",
    "                public_tweets = api.search(q=hash_tag,count=100,max_id=last_id)[\"statuses\"] ## search 100 tweets per search\n",
    "                #print(f\"{len(public_tweets)}\")\n",
    "                print(f\"last twitter tweeted at {public_tweets[0]['created_at']}\")\n",
    "\n",
    "                last_id=public_tweets[-1][\"id\"] # get the last id for next search\n",
    "                \n",
    "                if i==1:\n",
    "                    latest_twitter = public_tweets[0][\"created_at\"] \n",
    "                \n",
    "                earliest_twitter = public_tweets[-1][\"created_at\"] \n",
    "                \n",
    "                count_of_tweets += len(public_tweets)\n",
    "\n",
    "                for tweet in public_tweets:\n",
    "                    result = analyzer.polarity_scores(tweet[\"text\"])\n",
    "                    senti_score.append(result[\"compound\"])\n",
    "                    \n",
    "            except Exception as e:\n",
    "                print(f\"error: {e}\")\n",
    "\n",
    "            time.sleep(1) #pause for 1 second\n",
    "    \n",
    "    return np.mean(senti_score),count_of_tweets,latest_twitter,earliest_twitter\n",
    "            \n"
   ]
  },
  {
   "cell_type": "code",
   "execution_count": null,
   "metadata": {},
   "outputs": [],
   "source": [
    "senti_score_ls=[] # initialize a list to store sentimental analysis result for all teams\n",
    "\n",
    "for team in teams:\n",
    "    team_hash_tag = hash_tags[team]\n",
    "    #print(team_hash_tag)\n",
    "    \n",
    "    senti_score,count_of_tweets,latest_twitter,earliest_twitter = senti_analysis(team_hash_tag)\n",
    "    \n",
    "    senti_score_ls.append({\"team name\":team,\n",
    "                           \"average polarity score\":senti_score,\n",
    "                           \"number of tweets\":count_of_tweets,\n",
    "                           \"from\":earliest_twitter,\n",
    "                           \"to\":latest_twitter,}) "
   ]
  },
  {
   "cell_type": "code",
   "execution_count": null,
   "metadata": {},
   "outputs": [],
   "source": [
    "# convert the result into panda dataframe\n",
    "senti_score_df = pd.DataFrame(senti_score_ls)\n",
    "\n",
    "#set index\n",
    "senti_score_df.set_index(\"team name\",inplace=True)\n",
    "senti_score_df = senti_score_df[[\"average polarity score\",\"number of tweets\",\"from\",\"to\"]]\n",
    "\n",
    "#add hash tag to the table\n",
    "hash_tag_df = pd.Series(hash_tags,name=\"hash tag\").to_frame()\n",
    "hash_tag_df\n",
    "\n",
    "final_df=senti_score_df.merge(hash_tag_df,right_index=True,left_index=True)\n",
    "final_df"
   ]
  },
  {
   "cell_type": "code",
   "execution_count": null,
   "metadata": {},
   "outputs": [],
   "source": [
    "final_df.plot(kind=\"bar\",y=\"average polarity score\",figsize=(15,10))\n",
    "plt.xticks(fontsize=12)\n",
    "plt.title(\"Sentimental Analysis for Fans Tweets of Each Team\",fontsize=18)\n",
    "\n",
    "plt.savefig(\"Sentimental_Analysis_Result.png\",,bbox_inches='tight')"
   ]
  },
  {
   "cell_type": "code",
   "execution_count": null,
   "metadata": {},
   "outputs": [],
   "source": [
    "#export result to csv file\n",
    "final_df.to_csv(\"sentimental analysis result.csv\")"
   ]
  }
 ],
 "metadata": {
  "kernelspec": {
   "display_name": "Python [conda env:PythonData]",
   "language": "python",
   "name": "conda-env-PythonData-py"
  },
  "language_info": {
   "codemirror_mode": {
    "name": "ipython",
    "version": 3
   },
   "file_extension": ".py",
   "mimetype": "text/x-python",
   "name": "python",
   "nbconvert_exporter": "python",
   "pygments_lexer": "ipython3",
   "version": "3.6.5"
  }
 },
 "nbformat": 4,
 "nbformat_minor": 2
}
